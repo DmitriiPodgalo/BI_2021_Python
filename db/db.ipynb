{
 "cells": [
  {
   "cell_type": "code",
   "execution_count": 119,
   "id": "1bd93420",
   "metadata": {},
   "outputs": [],
   "source": [
    "import pandas as pd\n",
    "import sqlite3"
   ]
  },
  {
   "cell_type": "code",
   "execution_count": 69,
   "id": "39509f97",
   "metadata": {},
   "outputs": [],
   "source": [
    "genstudio = pd.read_csv('genstudio.csv', index_col=0, low_memory=False)\n",
    "metadata = pd.read_csv('metadata.csv', index_col=0)"
   ]
  },
  {
   "cell_type": "code",
   "execution_count": 70,
   "id": "1099def3",
   "metadata": {},
   "outputs": [],
   "source": [
    "connection = sqlite3.connect('dna.db')"
   ]
  },
  {
   "cell_type": "code",
   "execution_count": 71,
   "id": "e1561ec3",
   "metadata": {},
   "outputs": [
    {
     "data": {
      "text/html": [
       "<div>\n",
       "<style scoped>\n",
       "    .dataframe tbody tr th:only-of-type {\n",
       "        vertical-align: middle;\n",
       "    }\n",
       "\n",
       "    .dataframe tbody tr th {\n",
       "        vertical-align: top;\n",
       "    }\n",
       "\n",
       "    .dataframe thead th {\n",
       "        text-align: right;\n",
       "    }\n",
       "</style>\n",
       "<table border=\"1\" class=\"dataframe\">\n",
       "  <thead>\n",
       "    <tr style=\"text-align: right;\">\n",
       "      <th></th>\n",
       "      <th>SNP Name</th>\n",
       "      <th>SNP Index</th>\n",
       "      <th>SNP Aux</th>\n",
       "      <th>Sample ID</th>\n",
       "      <th>SNP</th>\n",
       "      <th>Allele1 - Top</th>\n",
       "      <th>Allele2 - Top</th>\n",
       "      <th>Allele1 - Forward</th>\n",
       "      <th>Allele2 - Forward</th>\n",
       "      <th>Allele1 - AB</th>\n",
       "      <th>Allele2 - AB</th>\n",
       "      <th>Chr</th>\n",
       "      <th>Position</th>\n",
       "      <th>GC Score</th>\n",
       "      <th>GT Score</th>\n",
       "      <th>Theta</th>\n",
       "      <th>R</th>\n",
       "      <th>B Allele Freq</th>\n",
       "      <th>Log R Ratio</th>\n",
       "    </tr>\n",
       "  </thead>\n",
       "  <tbody>\n",
       "    <tr>\n",
       "      <th>0</th>\n",
       "      <td>1_10573221</td>\n",
       "      <td>1</td>\n",
       "      <td>0</td>\n",
       "      <td>202341831114R01C01</td>\n",
       "      <td>[T/C]</td>\n",
       "      <td>-</td>\n",
       "      <td>-</td>\n",
       "      <td>-</td>\n",
       "      <td>-</td>\n",
       "      <td>-</td>\n",
       "      <td>-</td>\n",
       "      <td>1</td>\n",
       "      <td>10573221</td>\n",
       "      <td>0.0000</td>\n",
       "      <td>0.0000</td>\n",
       "      <td>0.942</td>\n",
       "      <td>0.413</td>\n",
       "      <td>1.0000</td>\n",
       "      <td>0.4040</td>\n",
       "    </tr>\n",
       "    <tr>\n",
       "      <th>1</th>\n",
       "      <td>1_10673082</td>\n",
       "      <td>2</td>\n",
       "      <td>0</td>\n",
       "      <td>202341831114R01C01</td>\n",
       "      <td>[T/C]</td>\n",
       "      <td>A</td>\n",
       "      <td>A</td>\n",
       "      <td>T</td>\n",
       "      <td>T</td>\n",
       "      <td>A</td>\n",
       "      <td>A</td>\n",
       "      <td>1</td>\n",
       "      <td>10673082</td>\n",
       "      <td>0.8272</td>\n",
       "      <td>0.8076</td>\n",
       "      <td>0.039</td>\n",
       "      <td>0.968</td>\n",
       "      <td>0.0000</td>\n",
       "      <td>0.3017</td>\n",
       "    </tr>\n",
       "    <tr>\n",
       "      <th>2</th>\n",
       "      <td>1_10723065</td>\n",
       "      <td>3</td>\n",
       "      <td>0</td>\n",
       "      <td>202341831114R01C01</td>\n",
       "      <td>[A/G]</td>\n",
       "      <td>A</td>\n",
       "      <td>A</td>\n",
       "      <td>T</td>\n",
       "      <td>T</td>\n",
       "      <td>A</td>\n",
       "      <td>A</td>\n",
       "      <td>1</td>\n",
       "      <td>10723065</td>\n",
       "      <td>0.8316</td>\n",
       "      <td>0.8107</td>\n",
       "      <td>0.011</td>\n",
       "      <td>1.577</td>\n",
       "      <td>0.0000</td>\n",
       "      <td>0.0388</td>\n",
       "    </tr>\n",
       "    <tr>\n",
       "      <th>3</th>\n",
       "      <td>1_11337555</td>\n",
       "      <td>4</td>\n",
       "      <td>0</td>\n",
       "      <td>202341831114R01C01</td>\n",
       "      <td>[A/G]</td>\n",
       "      <td>A</td>\n",
       "      <td>A</td>\n",
       "      <td>T</td>\n",
       "      <td>T</td>\n",
       "      <td>A</td>\n",
       "      <td>A</td>\n",
       "      <td>1</td>\n",
       "      <td>11337555</td>\n",
       "      <td>0.3781</td>\n",
       "      <td>0.7925</td>\n",
       "      <td>0.045</td>\n",
       "      <td>1.104</td>\n",
       "      <td>0.0000</td>\n",
       "      <td>0.2761</td>\n",
       "    </tr>\n",
       "    <tr>\n",
       "      <th>4</th>\n",
       "      <td>1_11407894</td>\n",
       "      <td>5</td>\n",
       "      <td>0</td>\n",
       "      <td>202341831114R01C01</td>\n",
       "      <td>[A/G]</td>\n",
       "      <td>G</td>\n",
       "      <td>G</td>\n",
       "      <td>G</td>\n",
       "      <td>G</td>\n",
       "      <td>B</td>\n",
       "      <td>B</td>\n",
       "      <td>1</td>\n",
       "      <td>11407894</td>\n",
       "      <td>0.9038</td>\n",
       "      <td>0.8670</td>\n",
       "      <td>0.983</td>\n",
       "      <td>1.122</td>\n",
       "      <td>0.9994</td>\n",
       "      <td>0.0022</td>\n",
       "    </tr>\n",
       "  </tbody>\n",
       "</table>\n",
       "</div>"
      ],
      "text/plain": [
       "     SNP Name  SNP Index  SNP Aux           Sample ID    SNP Allele1 - Top  \\\n",
       "0  1_10573221          1        0  202341831114R01C01  [T/C]             -   \n",
       "1  1_10673082          2        0  202341831114R01C01  [T/C]             A   \n",
       "2  1_10723065          3        0  202341831114R01C01  [A/G]             A   \n",
       "3  1_11337555          4        0  202341831114R01C01  [A/G]             A   \n",
       "4  1_11407894          5        0  202341831114R01C01  [A/G]             G   \n",
       "\n",
       "  Allele2 - Top Allele1 - Forward Allele2 - Forward Allele1 - AB Allele2 - AB  \\\n",
       "0             -                 -                 -            -            -   \n",
       "1             A                 T                 T            A            A   \n",
       "2             A                 T                 T            A            A   \n",
       "3             A                 T                 T            A            A   \n",
       "4             G                 G                 G            B            B   \n",
       "\n",
       "  Chr  Position  GC Score  GT Score  Theta      R  B Allele Freq  Log R Ratio  \n",
       "0   1  10573221    0.0000    0.0000  0.942  0.413         1.0000       0.4040  \n",
       "1   1  10673082    0.8272    0.8076  0.039  0.968         0.0000       0.3017  \n",
       "2   1  10723065    0.8316    0.8107  0.011  1.577         0.0000       0.0388  \n",
       "3   1  11337555    0.3781    0.7925  0.045  1.104         0.0000       0.2761  \n",
       "4   1  11407894    0.9038    0.8670  0.983  1.122         0.9994       0.0022  "
      ]
     },
     "execution_count": 71,
     "metadata": {},
     "output_type": "execute_result"
    }
   ],
   "source": [
    "genstudio.head()"
   ]
  },
  {
   "cell_type": "code",
   "execution_count": 72,
   "id": "63d32d82",
   "metadata": {
    "scrolled": true
   },
   "outputs": [
    {
     "data": {
      "text/html": [
       "<div>\n",
       "<style scoped>\n",
       "    .dataframe tbody tr th:only-of-type {\n",
       "        vertical-align: middle;\n",
       "    }\n",
       "\n",
       "    .dataframe tbody tr th {\n",
       "        vertical-align: top;\n",
       "    }\n",
       "\n",
       "    .dataframe thead th {\n",
       "        text-align: right;\n",
       "    }\n",
       "</style>\n",
       "<table border=\"1\" class=\"dataframe\">\n",
       "  <thead>\n",
       "    <tr style=\"text-align: right;\">\n",
       "      <th></th>\n",
       "      <th>dna_chip_id</th>\n",
       "      <th>breed</th>\n",
       "      <th>sex</th>\n",
       "    </tr>\n",
       "  </thead>\n",
       "  <tbody>\n",
       "    <tr>\n",
       "      <th>0</th>\n",
       "      <td>202290551164R09C01</td>\n",
       "      <td>Д</td>\n",
       "      <td>Хр</td>\n",
       "    </tr>\n",
       "    <tr>\n",
       "      <th>1</th>\n",
       "      <td>202341831114R02C01</td>\n",
       "      <td>Д</td>\n",
       "      <td>Хр</td>\n",
       "    </tr>\n",
       "    <tr>\n",
       "      <th>2</th>\n",
       "      <td>202341831114R03C01</td>\n",
       "      <td>Д</td>\n",
       "      <td>Хр</td>\n",
       "    </tr>\n",
       "    <tr>\n",
       "      <th>3</th>\n",
       "      <td>202341831114R04C01</td>\n",
       "      <td>Д</td>\n",
       "      <td>Хр</td>\n",
       "    </tr>\n",
       "    <tr>\n",
       "      <th>4</th>\n",
       "      <td>202290551140R01C01</td>\n",
       "      <td>Д</td>\n",
       "      <td>Хр</td>\n",
       "    </tr>\n",
       "  </tbody>\n",
       "</table>\n",
       "</div>"
      ],
      "text/plain": [
       "          dna_chip_id breed sex\n",
       "0  202290551164R09C01     Д  Хр\n",
       "1  202341831114R02C01     Д  Хр\n",
       "2  202341831114R03C01     Д  Хр\n",
       "3  202341831114R04C01     Д  Хр\n",
       "4  202290551140R01C01     Д  Хр"
      ]
     },
     "execution_count": 72,
     "metadata": {},
     "output_type": "execute_result"
    }
   ],
   "source": [
    "metadata.head()"
   ]
  },
  {
   "cell_type": "code",
   "execution_count": 73,
   "id": "3608dc81",
   "metadata": {},
   "outputs": [],
   "source": [
    "# Position (dtype == object) --> Position (dtype == int)\n",
    "\n",
    "genstudio = genstudio[genstudio['Position'].str.contains('-') == False]\n",
    "genstudio['Position'] = pd.to_numeric(genstudio['Position'])"
   ]
  },
  {
   "cell_type": "code",
   "execution_count": 75,
   "id": "11095127",
   "metadata": {},
   "outputs": [
    {
     "data": {
      "text/plain": [
       "<sqlite3.Cursor at 0x12817a340>"
      ]
     },
     "execution_count": 75,
     "metadata": {},
     "output_type": "execute_result"
    }
   ],
   "source": [
    "query1 = '''CREATE TABLE IF NOT EXISTS dna_snps(\n",
    "                                id INTEGER PRIMARY KEY,\n",
    "                                dna_id TEXT,\n",
    "                                SNP TEXT,\n",
    "                                SNP_name TEXT,\n",
    "                                Position INTEGER,\n",
    "                                GC_score INTEGER\n",
    "                                )'''\n",
    "\n",
    "query2 = '''CREATE TABLE IF NOT EXISTS dna_char(\n",
    "                                id INTEGER PRIMARY KEY,\n",
    "                                dna_id TEXT,\n",
    "                                breed TEXT,\n",
    "                                sex TEXT\n",
    "                                )'''\n",
    "\n",
    "connection.execute(query1)\n",
    "connection.execute(query2)"
   ]
  },
  {
   "cell_type": "code",
   "execution_count": 76,
   "id": "0c31bb0b",
   "metadata": {},
   "outputs": [],
   "source": [
    "insertion_query1 = f'''INSERT INTO \n",
    "                      dna_snps(dna_id, SNP, SNP_name, Position, GC_score)\n",
    "                      VALUES (?, ?, ?, ?, ?)'''\n",
    "\n",
    "insertion_query2 = f'''INSERT INTO \n",
    "                      dna_char(dna_id, breed, sex)\n",
    "                      VALUES (?, ?, ?)'''"
   ]
  },
  {
   "cell_type": "code",
   "execution_count": 83,
   "id": "c118c869",
   "metadata": {},
   "outputs": [
    {
     "data": {
      "text/plain": [
       "<sqlite3.Cursor at 0x12fed32d0>"
      ]
     },
     "execution_count": 83,
     "metadata": {},
     "output_type": "execute_result"
    }
   ],
   "source": [
    "info1 = genstudio[['Sample ID', 'SNP', 'SNP Name', 'Position', 'GC Score']].values.tolist()\n",
    "\n",
    "connection.executemany(insertion_query1, info1)"
   ]
  },
  {
   "cell_type": "code",
   "execution_count": 84,
   "id": "1ccd945e",
   "metadata": {},
   "outputs": [
    {
     "data": {
      "text/plain": [
       "<sqlite3.Cursor at 0x12c260500>"
      ]
     },
     "execution_count": 84,
     "metadata": {},
     "output_type": "execute_result"
    }
   ],
   "source": [
    "info2 = metadata[['dna_chip_id', 'breed', 'sex']].values.tolist()\n",
    "\n",
    "connection.executemany(insertion_query2, info2)"
   ]
  },
  {
   "cell_type": "code",
   "execution_count": 85,
   "id": "855d348c",
   "metadata": {},
   "outputs": [],
   "source": [
    "connection.commit()"
   ]
  },
  {
   "cell_type": "code",
   "execution_count": 86,
   "id": "792660cd",
   "metadata": {},
   "outputs": [],
   "source": [
    "select_query = '''\n",
    "                SELECT dna_id, SNP\n",
    "                FROM dna_snps'''\n",
    "\n",
    "result = connection.execute(select_query).fetchall()"
   ]
  },
  {
   "cell_type": "code",
   "execution_count": 87,
   "id": "6dab3db4",
   "metadata": {},
   "outputs": [
    {
     "name": "stdout",
     "output_type": "stream",
     "text": [
      "202341831114R01C01 [T/C]\n",
      "202341831114R01C01 [T/C]\n",
      "202341831114R01C01 [A/G]\n",
      "202341831114R01C01 [A/G]\n",
      "202341831114R01C01 [A/G]\n",
      "202341831114R01C01 [T/C]\n",
      "202341831114R01C01 [T/C]\n",
      "202341831114R01C01 [A/G]\n",
      "202341831114R01C01 [T/C]\n",
      "202341831114R01C01 [A/G]\n"
     ]
    }
   ],
   "source": [
    "for dna in result[:10]:\n",
    "    print(*dna)"
   ]
  },
  {
   "cell_type": "code",
   "execution_count": 89,
   "id": "d0cdb0fe",
   "metadata": {},
   "outputs": [],
   "source": [
    "select_query = '''\n",
    "                SELECT dna_id, sex\n",
    "                FROM dna_char'''\n",
    "\n",
    "result = connection.execute(select_query).fetchall()"
   ]
  },
  {
   "cell_type": "code",
   "execution_count": 90,
   "id": "7a6c7db0",
   "metadata": {},
   "outputs": [
    {
     "name": "stdout",
     "output_type": "stream",
     "text": [
      "202290551164R09C01 Хр\n",
      "202341831114R02C01 Хр\n",
      "202341831114R03C01 Хр\n",
      "202341831114R04C01 Хр\n",
      "202290551140R01C01 Хр\n",
      "202341831114R05C01 Хр\n",
      "202290551140R03C01 Хр\n",
      "202290551140R05C01 Хр\n",
      "202341831114R07C01 Хр\n",
      "202290551164R01C01 Хр\n"
     ]
    }
   ],
   "source": [
    "for dna in result[:10]:\n",
    "    print(*dna)"
   ]
  },
  {
   "cell_type": "code",
   "execution_count": 116,
   "id": "99ae7c1e",
   "metadata": {},
   "outputs": [
    {
     "data": {
      "text/plain": [
       "<sqlite3.Cursor at 0x12c25c6c0>"
      ]
     },
     "execution_count": 116,
     "metadata": {},
     "output_type": "execute_result"
    }
   ],
   "source": [
    "cursor = connection.cursor()\n",
    "\n",
    "query_join = '''\n",
    "                SELECT * FROM dna_snps\n",
    "                JOIN dna_char USING(dna_id)'''\n",
    "\n",
    "cursor.execute(query_join)"
   ]
  },
  {
   "cell_type": "code",
   "execution_count": 117,
   "id": "fe3fc596",
   "metadata": {},
   "outputs": [],
   "source": [
    "result = cursor.fetchall()"
   ]
  },
  {
   "cell_type": "code",
   "execution_count": 118,
   "id": "8b88c4d8",
   "metadata": {},
   "outputs": [
    {
     "name": "stdout",
     "output_type": "stream",
     "text": [
      "1 202341831114R01C01 [T/C] 1_10573221 10573221 0 839 Д Хр\n",
      "2 202341831114R01C01 [T/C] 1_10673082 10673082 0.8272 839 Д Хр\n",
      "3 202341831114R01C01 [A/G] 1_10723065 10723065 0.8316 839 Д Хр\n",
      "4 202341831114R01C01 [A/G] 1_11337555 11337555 0.3781 839 Д Хр\n",
      "5 202341831114R01C01 [A/G] 1_11407894 11407894 0.9038 839 Д Хр\n",
      "6 202341831114R01C01 [T/C] 1_11426075 11426075 0.9043 839 Д Хр\n",
      "7 202341831114R01C01 [T/C] 1_11445382 11445382 0.2429 839 Д Хр\n",
      "8 202341831114R01C01 [A/G] 1_135128255 135128255 0 839 Д Хр\n",
      "9 202341831114R01C01 [T/C] 1_13996200 13996200 0.8237 839 Д Хр\n",
      "10 202341831114R01C01 [A/G] 1_142535524 142535524 0.9271 839 Д Хр\n"
     ]
    }
   ],
   "source": [
    "for row in result[:10]:\n",
    "    print(*row)"
   ]
  }
 ],
 "metadata": {
  "kernelspec": {
   "display_name": "Python 3 (ipykernel)",
   "language": "python",
   "name": "python3"
  },
  "language_info": {
   "codemirror_mode": {
    "name": "ipython",
    "version": 3
   },
   "file_extension": ".py",
   "mimetype": "text/x-python",
   "name": "python",
   "nbconvert_exporter": "python",
   "pygments_lexer": "ipython3",
   "version": "3.9.10"
  }
 },
 "nbformat": 4,
 "nbformat_minor": 5
}
