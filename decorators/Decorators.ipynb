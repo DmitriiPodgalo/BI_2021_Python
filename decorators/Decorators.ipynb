{
 "cells": [
  {
   "cell_type": "code",
   "execution_count": 45,
   "id": "7a626793",
   "metadata": {},
   "outputs": [],
   "source": [
    "from time import time\n",
    "from random import random"
   ]
  },
  {
   "cell_type": "code",
   "execution_count": 48,
   "id": "64a45a91",
   "metadata": {},
   "outputs": [],
   "source": [
    "def mesure_time(func):\n",
    "    def inner_function(*args, **kwargs):\n",
    "        start = time()\n",
    "        result = func(*args, **kwargs)\n",
    "        end = time()\n",
    "        time_ = end - start\n",
    "        return time_\n",
    "    return inner_function"
   ]
  },
  {
   "cell_type": "code",
   "execution_count": 49,
   "id": "cbb8635b",
   "metadata": {},
   "outputs": [],
   "source": [
    "@mesure_time\n",
    "def work(a, b):\n",
    "    return a * b"
   ]
  },
  {
   "cell_type": "code",
   "execution_count": 50,
   "id": "2b5c7de4",
   "metadata": {},
   "outputs": [
    {
     "name": "stdout",
     "output_type": "stream",
     "text": [
      "9.5367431640625e-07\n"
     ]
    }
   ],
   "source": [
    "print(work(2, 4))"
   ]
  },
  {
   "cell_type": "code",
   "execution_count": 52,
   "id": "cdce595e",
   "metadata": {},
   "outputs": [],
   "source": [
    "def function_logging(func):\n",
    "    def inner_function(*args, **kwargs):\n",
    "        print_text = 'Function {} is called with'.format('\\033[1m' + func.__name__ + '\\033[0m')\n",
    "        if args == () and kwargs == {}:\n",
    "            print(print_text, 'no arguments')\n",
    "        elif args != () and kwargs != {}:\n",
    "            print(print_text, 'positional arguments:', args, 'and keyword arguments:', kwargs)\n",
    "        elif args != ():\n",
    "            print(print_text, 'positional arguments:', args)\n",
    "        else:\n",
    "            print(print_text, 'keyword arguments:', kwargs)\n",
    "        result = func(*args, **kwargs)\n",
    "        print('Function {} returns output of type'.format('\\033[1m' + func.__name__ + '\\033[0m'), type(result).__name__)\n",
    "        return result\n",
    "    return inner_function"
   ]
  },
  {
   "cell_type": "code",
   "execution_count": 53,
   "id": "79024526",
   "metadata": {},
   "outputs": [],
   "source": [
    "@function_logging\n",
    "def func1():\n",
    "    return set()\n",
    "\n",
    "@function_logging\n",
    "def func2(a, b, c):\n",
    "    return (a + b) / c\n",
    "\n",
    "@function_logging\n",
    "def func3(a, b, c, d=4):\n",
    "    return [a + b * c] * d\n",
    "\n",
    "@function_logging\n",
    "def func4(a=None, b=None):\n",
    "    return {a: b}"
   ]
  },
  {
   "cell_type": "code",
   "execution_count": 55,
   "id": "9c2beb6b",
   "metadata": {},
   "outputs": [
    {
     "name": "stdout",
     "output_type": "stream",
     "text": [
      "Function \u001b[1mfunc1\u001b[0m is called with no arguments\n",
      "Function \u001b[1mfunc1\u001b[0m returns output of type set\n",
      "set()\n",
      "\n",
      "Function \u001b[1mfunc2\u001b[0m is called with positional arguments: (1, 2, 3)\n",
      "Function \u001b[1mfunc2\u001b[0m returns output of type float\n",
      "1.0\n",
      "\n",
      "Function \u001b[1mfunc3\u001b[0m is called with positional arguments: (1, 2) and keyword arguments: {'c': 3, 'd': 2}\n",
      "Function \u001b[1mfunc3\u001b[0m returns output of type list\n",
      "[7, 7]\n",
      "\n",
      "Function \u001b[1mfunc4\u001b[0m is called with keyword arguments: {'a': None, 'b': -inf}\n",
      "Function \u001b[1mfunc4\u001b[0m returns output of type dict\n",
      "{None: -inf}\n"
     ]
    }
   ],
   "source": [
    "print(func1(), end='\\n\\n')\n",
    "print(func2(1, 2, 3), end='\\n\\n')\n",
    "print(func3(1, 2, c=3, d=2), end='\\n\\n')\n",
    "print(func4(a=None, b=float('-inf')))"
   ]
  },
  {
   "cell_type": "code",
   "execution_count": 58,
   "id": "41a8baec",
   "metadata": {},
   "outputs": [],
   "source": [
    "def russian_roulette_decorator(probability, return_value):\n",
    "    def decorator(func):\n",
    "        def inner_func(*args, **kwargs):\n",
    "            result = func(*args, **kwargs)\n",
    "            return result if random() > probability else return_value\n",
    "        return inner_func\n",
    "    return decorator"
   ]
  },
  {
   "cell_type": "code",
   "execution_count": 59,
   "id": "3b8e1e1a",
   "metadata": {},
   "outputs": [],
   "source": [
    "@russian_roulette_decorator(0.9, 10)\n",
    "def work(a, b):\n",
    "    return a * b"
   ]
  },
  {
   "cell_type": "code",
   "execution_count": 62,
   "id": "ae6eced4",
   "metadata": {},
   "outputs": [
    {
     "name": "stdout",
     "output_type": "stream",
     "text": [
      "10\n",
      "10\n",
      "10\n",
      "10\n",
      "10\n",
      "8\n",
      "10\n",
      "10\n",
      "10\n",
      "10\n"
     ]
    }
   ],
   "source": [
    "for _ in range(10):\n",
    "    print(work(2, 4))"
   ]
  },
  {
   "cell_type": "code",
   "execution_count": null,
   "id": "aaea9cae",
   "metadata": {},
   "outputs": [],
   "source": []
  }
 ],
 "metadata": {
  "kernelspec": {
   "display_name": "Python 3 (ipykernel)",
   "language": "python",
   "name": "python3"
  },
  "language_info": {
   "codemirror_mode": {
    "name": "ipython",
    "version": 3
   },
   "file_extension": ".py",
   "mimetype": "text/x-python",
   "name": "python",
   "nbconvert_exporter": "python",
   "pygments_lexer": "ipython3",
   "version": "3.9.10"
  }
 },
 "nbformat": 4,
 "nbformat_minor": 5
}
