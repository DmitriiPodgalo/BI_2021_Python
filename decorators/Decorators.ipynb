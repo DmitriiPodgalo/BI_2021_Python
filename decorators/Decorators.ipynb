{
 "cells": [
  {
   "cell_type": "code",
   "execution_count": 109,
   "id": "7a626793",
   "metadata": {},
   "outputs": [],
   "source": [
    "from time import time\n",
    "from datetime import datetime\n",
    "from random import random"
   ]
  },
  {
   "cell_type": "code",
   "execution_count": 110,
   "id": "64a45a91",
   "metadata": {},
   "outputs": [],
   "source": [
    "def Example_1(func):\n",
    "    def inner_function(*args, **kwargs):\n",
    "        start = time()\n",
    "        result = func(*args, **kwargs)\n",
    "        end = time()\n",
    "        time_ = end - start\n",
    "        return time_\n",
    "    return inner_function"
   ]
  },
  {
   "cell_type": "code",
   "execution_count": 111,
   "id": "cbb8635b",
   "metadata": {},
   "outputs": [],
   "source": [
    "@Example_1\n",
    "def work(a, b):\n",
    "    return a * b"
   ]
  },
  {
   "cell_type": "code",
   "execution_count": 112,
   "id": "2b5c7de4",
   "metadata": {},
   "outputs": [
    {
     "data": {
      "text/plain": [
       "9.5367431640625e-07"
      ]
     },
     "execution_count": 112,
     "metadata": {},
     "output_type": "execute_result"
    }
   ],
   "source": [
    "work(2, 4)"
   ]
  },
  {
   "cell_type": "code",
   "execution_count": 113,
   "id": "cdce595e",
   "metadata": {},
   "outputs": [],
   "source": [
    "def Example_2(func):\n",
    "    def inner_function(*args, **kwargs):\n",
    "        print('Function {} started at'.format('\\033[1m' + func.__name__ + '\\033[0m'), datetime.now().strftime(\"%H:%M:%S\"))\n",
    "        print('Input data: ', *args, **kwargs)\n",
    "        result = func(*args, **kwargs)\n",
    "        print('Result type:', type(result))\n",
    "        print('Function {} finished at'.format('\\033[1m' + func.__name__ + '\\033[0m'), datetime.now().strftime(\"%H:%M:%S\"))\n",
    "        return result\n",
    "    return inner_function"
   ]
  },
  {
   "cell_type": "code",
   "execution_count": 114,
   "id": "79024526",
   "metadata": {},
   "outputs": [],
   "source": [
    "@Example_2\n",
    "def work(a, b):\n",
    "    return a * b"
   ]
  },
  {
   "cell_type": "code",
   "execution_count": 115,
   "id": "9c2beb6b",
   "metadata": {},
   "outputs": [
    {
     "name": "stdout",
     "output_type": "stream",
     "text": [
      "Function \u001b[1mwork\u001b[0m started at 22:22:30\n",
      "Input data:  2 4\n",
      "Result type: <class 'int'>\n",
      "Function \u001b[1mwork\u001b[0m finished at 22:22:30\n"
     ]
    },
    {
     "data": {
      "text/plain": [
       "8"
      ]
     },
     "execution_count": 115,
     "metadata": {},
     "output_type": "execute_result"
    }
   ],
   "source": [
    "work(2, 4)"
   ]
  },
  {
   "cell_type": "code",
   "execution_count": 141,
   "id": "41a8baec",
   "metadata": {},
   "outputs": [],
   "source": [
    "def Example_3(prob, alt_value):\n",
    "    def decorator(func):\n",
    "        def inner_func(*args, **kwargs):\n",
    "            result = func(*args, **kwargs)\n",
    "            return result if random() > prob else alt_value\n",
    "        return inner_func\n",
    "    return decorator"
   ]
  },
  {
   "cell_type": "code",
   "execution_count": 146,
   "id": "3b8e1e1a",
   "metadata": {},
   "outputs": [],
   "source": [
    "@Example_3(0.9, 10)\n",
    "def work(a, b):\n",
    "    return a * b"
   ]
  },
  {
   "cell_type": "code",
   "execution_count": 152,
   "id": "ae6eced4",
   "metadata": {},
   "outputs": [
    {
     "data": {
      "text/plain": [
       "10"
      ]
     },
     "execution_count": 152,
     "metadata": {},
     "output_type": "execute_result"
    }
   ],
   "source": [
    "work(2, 4)"
   ]
  },
  {
   "cell_type": "code",
   "execution_count": null,
   "id": "3570a28e",
   "metadata": {},
   "outputs": [],
   "source": []
  }
 ],
 "metadata": {
  "kernelspec": {
   "display_name": "Python 3 (ipykernel)",
   "language": "python",
   "name": "python3"
  },
  "language_info": {
   "codemirror_mode": {
    "name": "ipython",
    "version": 3
   },
   "file_extension": ".py",
   "mimetype": "text/x-python",
   "name": "python",
   "nbconvert_exporter": "python",
   "pygments_lexer": "ipython3",
   "version": "3.9.10"
  }
 },
 "nbformat": 4,
 "nbformat_minor": 5
}
