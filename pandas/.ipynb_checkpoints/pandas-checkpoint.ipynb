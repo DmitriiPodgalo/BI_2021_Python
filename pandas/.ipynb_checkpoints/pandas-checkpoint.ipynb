{
 "cells": [
  {
   "cell_type": "code",
   "execution_count": 1,
   "id": "b16af86a",
   "metadata": {},
   "outputs": [],
   "source": [
    "import pandas as pd\n",
    "import matplotlib.pyplot as plt\n",
    "import seaborn as sns"
   ]
  },
  {
   "cell_type": "code",
   "execution_count": 17,
   "id": "3825a9c7",
   "metadata": {
    "scrolled": true
   },
   "outputs": [],
   "source": [
    "url = 'https://raw.githubusercontent.com/Serfentum/bf_course/master/14.pandas/train.csv'\n",
    "df = pd.read_csv(url)"
   ]
  },
  {
   "cell_type": "markdown",
   "id": "adb93917",
   "metadata": {},
   "source": [
    "## 1"
   ]
  },
  {
   "cell_type": "code",
   "execution_count": 14,
   "id": "1eef5553",
   "metadata": {
    "scrolled": false
   },
   "outputs": [
    {
     "data": {
      "text/plain": [
       "<AxesSubplot:ylabel='Count'>"
      ]
     },
     "execution_count": 14,
     "metadata": {},
     "output_type": "execute_result"
    },
    {
     "data": {
      "image/png": "[encoded data removed]",
      "text/plain": [
       "<Figure size 432x288 with 1 Axes>"
      ]
     },
     "metadata": {
      "needs_background": "light"
     },
     "output_type": "display_data"
    }
   ],
   "source": [
    "sns.histplot(df.loc[:,'A':'G'])"
   ]
  },
  {
   "cell_type": "markdown",
   "id": "c8372d85",
   "metadata": {},
   "source": [
    "## 2"
   ]
  },
  {
   "cell_type": "code",
   "execution_count": 16,
   "id": "4ef75915",
   "metadata": {},
   "outputs": [],
   "source": [
    "cols = ['pos', 'reads_all', 'mismatches', 'deletions', 'insertions']\n",
    "df.loc[df['matches'] > df['matches'].mean(), cols].to_csv('train_part.csv', index=None)"
   ]
  },
  {
   "cell_type": "markdown",
   "id": "8c5de21e",
   "metadata": {},
   "source": [
    "## 3"
   ]
  },
  {
   "cell_type": "code",
   "execution_count": 18,
   "id": "a799a086",
   "metadata": {},
   "outputs": [
    {
     "data": {
      "text/html": [
       "<div>\n",
       "<style scoped>\n",
       "    .dataframe tbody tr th:only-of-type {\n",
       "        vertical-align: middle;\n",
       "    }\n",
       "\n",
       "    .dataframe tbody tr th {\n",
       "        vertical-align: top;\n",
       "    }\n",
       "\n",
       "    .dataframe thead th {\n",
       "        text-align: right;\n",
       "    }\n",
       "</style>\n",
       "<table border=\"1\" class=\"dataframe\">\n",
       "  <thead>\n",
       "    <tr style=\"text-align: right;\">\n",
       "      <th></th>\n",
       "      <th>pos</th>\n",
       "      <th>reads_all</th>\n",
       "      <th>matches</th>\n",
       "      <th>mismatches</th>\n",
       "      <th>deletions</th>\n",
       "      <th>insertions</th>\n",
       "      <th>A</th>\n",
       "      <th>C</th>\n",
       "      <th>T</th>\n",
       "      <th>G</th>\n",
       "      <th>A_fraction</th>\n",
       "      <th>T_fraction</th>\n",
       "      <th>G_fraction</th>\n",
       "      <th>C_fraction</th>\n",
       "    </tr>\n",
       "  </thead>\n",
       "  <tbody>\n",
       "    <tr>\n",
       "      <th>0</th>\n",
       "      <td>279</td>\n",
       "      <td>8045</td>\n",
       "      <td>32</td>\n",
       "      <td>7972</td>\n",
       "      <td>46</td>\n",
       "      <td>8</td>\n",
       "      <td>7911.0</td>\n",
       "      <td>54.0</td>\n",
       "      <td>11.0</td>\n",
       "      <td>NaN</td>\n",
       "      <td>0.983503</td>\n",
       "      <td>0.000815</td>\n",
       "      <td>NaN</td>\n",
       "      <td>0.006896</td>\n",
       "    </tr>\n",
       "    <tr>\n",
       "      <th>1</th>\n",
       "      <td>280</td>\n",
       "      <td>8045</td>\n",
       "      <td>7995</td>\n",
       "      <td>48</td>\n",
       "      <td>19</td>\n",
       "      <td>9</td>\n",
       "      <td>NaN</td>\n",
       "      <td>16.0</td>\n",
       "      <td>13.0</td>\n",
       "      <td>19.0</td>\n",
       "      <td>NaN</td>\n",
       "      <td>0.001355</td>\n",
       "      <td>0.002392</td>\n",
       "      <td>0.001914</td>\n",
       "    </tr>\n",
       "    <tr>\n",
       "      <th>2</th>\n",
       "      <td>281</td>\n",
       "      <td>8045</td>\n",
       "      <td>7983</td>\n",
       "      <td>50</td>\n",
       "      <td>16</td>\n",
       "      <td>5</td>\n",
       "      <td>NaN</td>\n",
       "      <td>24.0</td>\n",
       "      <td>4.0</td>\n",
       "      <td>24.0</td>\n",
       "      <td>NaN</td>\n",
       "      <td>0.000639</td>\n",
       "      <td>0.002875</td>\n",
       "      <td>0.002310</td>\n",
       "    </tr>\n",
       "    <tr>\n",
       "      <th>3</th>\n",
       "      <td>282</td>\n",
       "      <td>8049</td>\n",
       "      <td>7510</td>\n",
       "      <td>505</td>\n",
       "      <td>33</td>\n",
       "      <td>65</td>\n",
       "      <td>105.0</td>\n",
       "      <td>11.0</td>\n",
       "      <td>395.0</td>\n",
       "      <td>NaN</td>\n",
       "      <td>0.012750</td>\n",
       "      <td>0.049096</td>\n",
       "      <td>NaN</td>\n",
       "      <td>0.000919</td>\n",
       "    </tr>\n",
       "    <tr>\n",
       "      <th>4</th>\n",
       "      <td>283</td>\n",
       "      <td>8042</td>\n",
       "      <td>7786</td>\n",
       "      <td>155</td>\n",
       "      <td>115</td>\n",
       "      <td>62</td>\n",
       "      <td>46.0</td>\n",
       "      <td>NaN</td>\n",
       "      <td>93.0</td>\n",
       "      <td>31.0</td>\n",
       "      <td>0.004960</td>\n",
       "      <td>0.010992</td>\n",
       "      <td>0.003186</td>\n",
       "      <td>NaN</td>\n",
       "    </tr>\n",
       "  </tbody>\n",
       "</table>\n",
       "</div>"
      ],
      "text/plain": [
       "   pos  reads_all  matches  mismatches  deletions  insertions       A     C  \\\n",
       "0  279       8045       32        7972         46           8  7911.0  54.0   \n",
       "1  280       8045     7995          48         19           9     NaN  16.0   \n",
       "2  281       8045     7983          50         16           5     NaN  24.0   \n",
       "3  282       8049     7510         505         33          65   105.0  11.0   \n",
       "4  283       8042     7786         155        115          62    46.0   NaN   \n",
       "\n",
       "       T     G  A_fraction  T_fraction  G_fraction  C_fraction  \n",
       "0   11.0   NaN    0.983503    0.000815         NaN    0.006896  \n",
       "1   13.0  19.0         NaN    0.001355    0.002392    0.001914  \n",
       "2    4.0  24.0         NaN    0.000639    0.002875    0.002310  \n",
       "3  395.0   NaN    0.012750    0.049096         NaN    0.000919  \n",
       "4   93.0  31.0    0.004960    0.010992    0.003186         NaN  "
      ]
     },
     "execution_count": 18,
     "metadata": {},
     "output_type": "execute_result"
    }
   ],
   "source": [
    "df.head()"
   ]
  },
  {
   "cell_type": "code",
   "execution_count": 19,
   "id": "b447a1db",
   "metadata": {},
   "outputs": [
    {
     "name": "stdout",
     "output_type": "stream",
     "text": [
      "<class 'pandas.core.frame.DataFrame'>\n",
      "RangeIndex: 63 entries, 0 to 62\n",
      "Data columns (total 14 columns):\n",
      " #   Column      Non-Null Count  Dtype  \n",
      "---  ------      --------------  -----  \n",
      " 0   pos         63 non-null     int64  \n",
      " 1   reads_all   63 non-null     int64  \n",
      " 2   matches     63 non-null     int64  \n",
      " 3   mismatches  63 non-null     int64  \n",
      " 4   deletions   63 non-null     int64  \n",
      " 5   insertions  63 non-null     int64  \n",
      " 6   A           45 non-null     float64\n",
      " 7   C           48 non-null     float64\n",
      " 8   T           49 non-null     float64\n",
      " 9   G           47 non-null     float64\n",
      " 10  A_fraction  45 non-null     float64\n",
      " 11  T_fraction  49 non-null     float64\n",
      " 12  G_fraction  47 non-null     float64\n",
      " 13  C_fraction  48 non-null     float64\n",
      "dtypes: float64(8), int64(6)\n",
      "memory usage: 7.0 KB\n"
     ]
    }
   ],
   "source": [
    "df.info()"
   ]
  },
  {
   "cell_type": "code",
   "execution_count": 21,
   "id": "a34fcfff",
   "metadata": {},
   "outputs": [
    {
     "data": {
      "text/plain": [
       "pos             int64\n",
       "reads_all       int64\n",
       "matches         int64\n",
       "mismatches      int64\n",
       "deletions       int64\n",
       "insertions      int64\n",
       "A             float64\n",
       "C             float64\n",
       "T             float64\n",
       "G             float64\n",
       "A_fraction    float64\n",
       "T_fraction    float64\n",
       "G_fraction    float64\n",
       "C_fraction    float64\n",
       "dtype: object"
      ]
     },
     "execution_count": 21,
     "metadata": {},
     "output_type": "execute_result"
    }
   ],
   "source": [
    "df.dtypes"
   ]
  },
  {
   "cell_type": "code",
   "execution_count": 26,
   "id": "39198a57",
   "metadata": {},
   "outputs": [
    {
     "data": {
      "image/png": "[encoded data removed]",
      "text/plain": [
       "<Figure size 432x288 with 1 Axes>"
      ]
     },
     "metadata": {
      "needs_background": "light"
     },
     "output_type": "display_data"
    },
    {
     "data": {
      "image/png": "[encoded data removed]",
      "text/plain": [
       "<Figure size 432x288 with 1 Axes>"
      ]
     },
     "metadata": {
      "needs_background": "light"
     },
     "output_type": "display_data"
    },
    {
     "data": {
      "image/png": "[encoded data removed]",
      "text/plain": [
       "<Figure size 432x288 with 1 Axes>"
      ]
     },
     "metadata": {
      "needs_background": "light"
     },
     "output_type": "display_data"
    },
    {
     "data": {
      "image/png": "[encoded data removed]",
      "text/plain": [
       "<Figure size 432x288 with 1 Axes>"
      ]
     },
     "metadata": {
      "needs_background": "light"
     },
     "output_type": "display_data"
    }
   ],
   "source": [
    "cols = ['matches', 'mismatches', 'deletions', 'insertions']\n",
    "for col in cols:\n",
    "    sns.histplot(df[col])\n",
    "    plt.show()"
   ]
  },
  {
   "cell_type": "code",
   "execution_count": 27,
   "id": "06528a74",
   "metadata": {},
   "outputs": [
    {
     "data": {
      "text/plain": [
       "<AxesSubplot:>"
      ]
     },
     "execution_count": 27,
     "metadata": {},
     "output_type": "execute_result"
    },
    {
     "data": {
      "image/png": "[encoded data removed]",
      "text/plain": [
       "<Figure size 432x288 with 2 Axes>"
      ]
     },
     "metadata": {
      "needs_background": "light"
     },
     "output_type": "display_data"
    }
   ],
   "source": [
    "sns.heatmap(df.corr())"
   ]
  }
 ],
 "metadata": {
  "kernelspec": {
   "display_name": "Python 3 (ipykernel)",
   "language": "python",
   "name": "python3"
  },
  "language_info": {
   "codemirror_mode": {
    "name": "ipython",
    "version": 3
   },
   "file_extension": ".py",
   "mimetype": "text/x-python",
   "name": "python",
   "nbconvert_exporter": "python",
   "pygments_lexer": "ipython3",
   "version": "3.9.10"
  }
 },
 "nbformat": 4,
 "nbformat_minor": 5
}
